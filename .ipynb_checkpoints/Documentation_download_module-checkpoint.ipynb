{
 "cells": [
  {
   "cell_type": "markdown",
   "id": "3dad4baf1b855156",
   "metadata": {
    "collapsed": false,
    "jupyter": {
     "outputs_hidden": false
    }
   },
   "source": [
    "# Download module\n",
    "To enable the translation between two Instruments we need to download the data of the respective instruments. This notebook provides two examples of how to download the data using the build-in download routines."
   ]
  },
  {
   "cell_type": "code",
   "execution_count": 1,
   "id": "f787b181804467ec",
   "metadata": {
    "collapsed": false,
    "jupyter": {
     "outputs_hidden": false
    }
   },
   "outputs": [
    {
     "name": "stdout",
     "output_type": "stream",
     "text": [
      "Requirement already satisfied: sunpy in ./venv/lib/python3.8/site-packages (4.1.7)\n",
      "Requirement already satisfied: astropy>=4.2.1 in ./venv/lib/python3.8/site-packages (from sunpy) (5.2.2)\n",
      "Requirement already satisfied: numpy>=1.17.0 in ./venv/lib/python3.8/site-packages (from sunpy) (1.24.4)\n",
      "Requirement already satisfied: packaging>=19.0 in ./venv/lib/python3.8/site-packages (from sunpy) (23.1)\n",
      "Requirement already satisfied: parfive>=1.2.0 in ./venv/lib/python3.8/site-packages (from parfive[ftp]>=1.2.0->sunpy) (2.0.2)\n",
      "Requirement already satisfied: pyerfa>=2.0 in ./venv/lib/python3.8/site-packages (from astropy>=4.2.1->sunpy) (2.0.0.3)\n",
      "Requirement already satisfied: PyYAML>=3.13 in ./venv/lib/python3.8/site-packages (from astropy>=4.2.1->sunpy) (6.0.1)\n",
      "Requirement already satisfied: tqdm>=4.27.0 in ./venv/lib/python3.8/site-packages (from parfive>=1.2.0->parfive[ftp]>=1.2.0->sunpy) (4.66.1)\n",
      "Requirement already satisfied: aiohttp in ./venv/lib/python3.8/site-packages (from parfive>=1.2.0->parfive[ftp]>=1.2.0->sunpy) (3.8.5)\n",
      "Requirement already satisfied: aioftp>=0.17.1 in ./venv/lib/python3.8/site-packages (from parfive[ftp]>=1.2.0->sunpy) (0.21.4)\n",
      "Requirement already satisfied: attrs>=17.3.0 in ./venv/lib/python3.8/site-packages (from aiohttp->parfive>=1.2.0->parfive[ftp]>=1.2.0->sunpy) (23.1.0)\n",
      "Requirement already satisfied: charset-normalizer<4.0,>=2.0 in ./venv/lib/python3.8/site-packages (from aiohttp->parfive>=1.2.0->parfive[ftp]>=1.2.0->sunpy) (3.2.0)\n",
      "Requirement already satisfied: multidict<7.0,>=4.5 in ./venv/lib/python3.8/site-packages (from aiohttp->parfive>=1.2.0->parfive[ftp]>=1.2.0->sunpy) (6.0.4)\n",
      "Requirement already satisfied: async-timeout<5.0,>=4.0.0a3 in ./venv/lib/python3.8/site-packages (from aiohttp->parfive>=1.2.0->parfive[ftp]>=1.2.0->sunpy) (4.0.3)\n",
      "Requirement already satisfied: yarl<2.0,>=1.0 in ./venv/lib/python3.8/site-packages (from aiohttp->parfive>=1.2.0->parfive[ftp]>=1.2.0->sunpy) (1.9.2)\n",
      "Requirement already satisfied: frozenlist>=1.1.1 in ./venv/lib/python3.8/site-packages (from aiohttp->parfive>=1.2.0->parfive[ftp]>=1.2.0->sunpy) (1.4.0)\n",
      "Requirement already satisfied: aiosignal>=1.1.2 in ./venv/lib/python3.8/site-packages (from aiohttp->parfive>=1.2.0->parfive[ftp]>=1.2.0->sunpy) (1.3.1)\n",
      "Requirement already satisfied: idna>=2.0 in ./venv/lib/python3.8/site-packages (from yarl<2.0,>=1.0->aiohttp->parfive>=1.2.0->parfive[ftp]>=1.2.0->sunpy) (3.4)\n"
     ]
    }
   ],
   "source": [
    "!pip install sunpy"
   ]
  },
  {
   "cell_type": "code",
   "execution_count": 11,
   "id": "f5af72be82253b03",
   "metadata": {
    "collapsed": false,
    "jupyter": {
     "outputs_hidden": false
    }
   },
   "outputs": [],
   "source": [
    "from iti.download.download_sdo import SDODownloader\n",
    "from datetime import datetime\n",
    "from sunpy.map import Map"
   ]
  },
  {
   "cell_type": "markdown",
   "id": "2f0e3bf5189ec1b0",
   "metadata": {
    "collapsed": false,
    "jupyter": {
     "outputs_hidden": false
    }
   },
   "source": [
    "## Downloading data from the SDO"
   ]
  },
  {
   "cell_type": "code",
   "execution_count": 15,
   "id": "f82012773400e3d1",
   "metadata": {
    "collapsed": false,
    "jupyter": {
     "outputs_hidden": false
    }
   },
   "outputs": [
    {
     "name": "stdout",
     "output_type": "stream",
     "text": [
      "downloaded: None\n"
     ]
    }
   ],
   "source": [
    "email = \"chri.schirni@hotmail.de\"\n",
    "downloader = SDODownloader(base_path='sdo', email=email, n_workers=4)\n",
    "start_date = datetime(2023, 4, 18)\n",
    "end_date = datetime.now()\n",
    "\n",
    "for d in [start_date + i * timedelta(hours=6) for i in \n",
    "          range((end_date - start_date) // timedelta(hours=6))]:\n",
    "    downloader.downloadDate(d)"
   ]
  }
 ],
 "metadata": {
  "kernelspec": {
   "display_name": "Python 3 (ipykernel)",
   "language": "python",
   "name": "python3"
  },
  "language_info": {
   "codemirror_mode": {
    "name": "ipython",
    "version": 3
   },
   "file_extension": ".py",
   "mimetype": "text/x-python",
   "name": "python",
   "nbconvert_exporter": "python",
   "pygments_lexer": "ipython3",
   "version": "3.8.3"
  }
 },
 "nbformat": 4,
 "nbformat_minor": 5
}
