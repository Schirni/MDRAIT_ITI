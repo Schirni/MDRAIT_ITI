{
 "cells": [
  {
   "cell_type": "markdown",
   "id": "3dad4baf1b855156",
   "metadata": {
    "collapsed": false
   },
   "source": [
    "# Download module\n",
    "To enable the translation between two Instruments we need to download the data of the respective instruments. This notebook provides two examples of how to download the data of SDO and Solar Orbiter using the build-in download routines."
   ]
  },
  {
   "cell_type": "code",
   "execution_count": null,
   "id": "f787b181804467ec",
   "metadata": {
    "collapsed": false
   },
   "outputs": [],
   "source": [
    "!pip install sunpy"
   ]
  },
  {
   "cell_type": "code",
   "execution_count": 19,
   "id": "f5af72be82253b03",
   "metadata": {
    "collapsed": false
   },
   "outputs": [],
   "source": [
    "from iti.download.download_sdo import SDODownloader\n",
    "from iti.download.download_solo import SOLODownloader\n",
    "from datetime import timedelta, datetime\n",
    "from sunpy.map import Map\n",
    "import numpy as np"
   ]
  },
  {
   "cell_type": "markdown",
   "id": "2f0e3bf5189ec1b0",
   "metadata": {
    "collapsed": false
   },
   "source": [
    "## Downloading data from the SDO"
   ]
  },
  {
   "cell_type": "markdown",
   "id": "27daeffb08f6ce04",
   "metadata": {
    "collapsed": false
   },
   "source": [
    "One needs to specify the email address to download the data from the JSOC. If you are not registered yet, see here: http://jsoc.stanford.edu/ajax/register_email.html.\n",
    "The SDODownloader cla"
   ]
  },
  {
   "cell_type": "code",
   "execution_count": null,
   "id": "f82012773400e3d1",
   "metadata": {
    "collapsed": false
   },
   "outputs": [],
   "source": [
    "email = \"chri.schirni@hotmail.de\"\n",
    "downloader_sdo = SDODownloader(base_path='sdo', email=email, n_workers=4)\n",
    "start_date = datetime(2022, 3, 1)\n",
    "end_date = datetime(2023, 3, 2)\n",
    "\n",
    "for d in [start_date + i * timedelta(hours=12) for i in \n",
    "          range((end_date - start_date) // timedelta(hours=12))]:\n",
    "    downloader_sdo.downloadDate(d)"
   ]
  },
  {
   "cell_type": "markdown",
   "id": "96f3a323b8213ef7",
   "metadata": {
    "collapsed": false
   },
   "source": [
    "## Downloading data from Solar Orbiter"
   ]
  },
  {
   "cell_type": "code",
   "execution_count": null,
   "id": "3540c4b5d0b0f5f0",
   "metadata": {
    "collapsed": false
   },
   "outputs": [],
   "source": [
    "downloader_solO = SOLODownloader(base_path='SolO')\n",
    "start_date = datetime(2022, 3, 1)\n",
    "end_date = datetime(2023, 3, 2)\n",
    "\n",
    "for d in [start_date + i * timedelta(hours=3) for i in\n",
    "          range((end_date - start_date) // timedelta(hours=3))]:\n",
    "    downloader_solO.downloadDate(d)"
   ]
  }
 ],
 "metadata": {
  "kernelspec": {
   "display_name": "Python 3 (ipykernel)",
   "language": "python",
   "name": "python3"
  },
  "language_info": {
   "codemirror_mode": {
    "name": "ipython",
    "version": 3
   },
   "file_extension": ".py",
   "mimetype": "text/x-python",
   "name": "python",
   "nbconvert_exporter": "python",
   "pygments_lexer": "ipython3",
   "version": "3.8.3"
  }
 },
 "nbformat": 4,
 "nbformat_minor": 5
}
